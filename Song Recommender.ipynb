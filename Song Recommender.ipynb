{
 "cells": [
  {
   "cell_type": "code",
   "execution_count": 1,
   "id": "9c9a7d1a",
   "metadata": {},
   "outputs": [],
   "source": [
    "import pandas as pd\n",
    "\n",
    "import spotipy\n",
    "from spotipy.oauth2 import SpotifyClientCredentials\n",
    "\n",
    "from pandas import json_normalize\n",
    "\n",
    "pd.set_option(\"display.max_columns\", 0)\n",
    "\n",
    "import pickle"
   ]
  },
  {
   "cell_type": "code",
   "execution_count": 2,
   "id": "b9d9d381",
   "metadata": {},
   "outputs": [],
   "source": [
    "# Getting our database\n",
    "\n",
    "top_100 = pd.read_csv('top_100.csv')\n",
    "df = pd.read_csv('collection_of_songs_clustered.csv')"
   ]
  },
  {
   "cell_type": "code",
   "execution_count": 3,
   "id": "d60c654f",
   "metadata": {},
   "outputs": [],
   "source": [
    "# Getting the models \n",
    "\n",
    "scaler = pickle.load(open('Scaler.p','rb'))\n",
    "cluster = pickle.load(open('KMeans.p','rb'))"
   ]
  },
  {
   "cell_type": "code",
   "execution_count": 7,
   "id": "23bb8bc7",
   "metadata": {},
   "outputs": [],
   "source": [
    "# The function is supposed to search for the song in the spotify api, get the audio features and create the cluster for this song. \n",
    "\n",
    "def get_details_for_input(x):\n",
    "    # Get log in data from secrets file\n",
    "    secrets_file = open(\"secrets.txt\",\"r\")\n",
    "    string = secrets_file.read()\n",
    "\n",
    "    secrets_dict={}\n",
    "    for line in string.split('\\n'):\n",
    "        if len(line) > 0:\n",
    "            #print(line.split(':'))\n",
    "            secrets_dict[line.split(':')[0]]=line.split(':')[1].strip()\n",
    "\n",
    "    # Initialize SpotiPy with user credentials\n",
    "    sp = spotipy.Spotify(auth_manager=SpotifyClientCredentials(client_id=secrets_dict['clientid'],\n",
    "                                                           client_secret=secrets_dict['clientsecret']))\n",
    "    # Search for the input song\n",
    "    x_spotify = sp.search(q=x, limit=1)\n",
    "    \n",
    "    # Normalize the output\n",
    "    x_spotify = json_normalize(x_spotify[\"tracks\"][\"items\"])\n",
    "\n",
    "    # Get the name of the artists\n",
    "    artist_df = pd.DataFrame(columns=['href', 'id', 'name', 'type', 'uri', 'external_urls.spotify', 'song_id'])\n",
    "    for i in x_spotify.index:\n",
    "        artists_for_song = json_normalize(x_spotify.iloc[i]['artists'])\n",
    "        artists_for_song['song_id'] = x_spotify.iloc[i]['id']            # we keep song id, it is the same for all the artists on the song\n",
    "        artists_for_song['song_name'] = x_spotify.iloc[i]['name']        # same for song_name\n",
    "        artists_for_song['popularity'] = x_spotify.iloc[i]['popularity'] # and for popularity   \n",
    "        artist_df = pd.concat([artist_df, artists_for_song], axis=0)\n",
    "    \n",
    "    # Drop all the columns we do not need\n",
    "    x_final = artist_df[['song_name', 'name', 'song_id']]\n",
    "\n",
    "    # Get the audio features for a song\n",
    "    x_features = sp.audio_features(x_final['song_id'])\n",
    "    x_features = json_normalize(x_features)\n",
    "    x_features = x_features.drop(['type','id','uri','track_href','analysis_url','duration_ms','time_signature'], axis=1)\n",
    "    \n",
    "    # Scale the values with the StandardScaler\n",
    "    x_features_scaled = scaler.transform(x_features)\n",
    "    pd.DataFrame(x_features_scaled,columns=x_features.columns)\n",
    "    \n",
    "    # Create the clusters\n",
    "    clusters = cluster.predict(x_features_scaled)\n",
    "    \n",
    "    # Put everything in one dataframe\n",
    "    x_final['audio_clusters'] = clusters \n",
    "    return x_final\n",
    "    "
   ]
  },
  {
   "cell_type": "code",
   "execution_count": 22,
   "id": "a815a9eb",
   "metadata": {},
   "outputs": [
    {
     "name": "stdout",
     "output_type": "stream",
     "text": [
      "Enter a song title:\n",
      "dancing queen\n",
      "Recommended song:\n",
      "Title:  Song Sung Blue\n",
      "Artist:  Neil Diamond\n"
     ]
    },
    {
     "name": "stderr",
     "output_type": "stream",
     "text": [
      "C:\\Users\\hanne\\AppData\\Local\\Temp\\ipykernel_18476\\905993126.py:48: SettingWithCopyWarning: \n",
      "A value is trying to be set on a copy of a slice from a DataFrame.\n",
      "Try using .loc[row_indexer,col_indexer] = value instead\n",
      "\n",
      "See the caveats in the documentation: https://pandas.pydata.org/pandas-docs/stable/user_guide/indexing.html#returning-a-view-versus-a-copy\n",
      "  x_final['audio_clusters'] = clusters\n"
     ]
    }
   ],
   "source": [
    "# First we need the user Input\n",
    "\n",
    "print('Enter a song title:')\n",
    "x = input()\n",
    "\n",
    "# Check whether or not the input song is in the PopVortex Hot 100\n",
    "\n",
    "# Make sure we do not recommend the input song.\n",
    "filtered_top_100 = top_100[top_100['title'].str.lower() != x.lower()]\n",
    "\n",
    "# Get a random row from the top_100 dataset with the sample() method.\n",
    "if x.lower() in top_100['title'].str.lower().values:\n",
    "    random_song = filtered_top_100.sample(n=1)\n",
    "    print(\"Recommended song from Top 100:\")\n",
    "    print(\"Title: \", random_song['title'].values[0])\n",
    "    print(\"Artist: \", random_song['artist'].values[0])\n",
    "else:\n",
    "    result = get_details_for_input(x)\n",
    "    if pd.notna(result.iloc[0, 3]) == True:\n",
    "        input_cluster = result.iloc[0, 3]\n",
    "        same_cluster = df[df['audio_clusters'] == input_cluster]\n",
    "        random_song = same_cluster.sample(n=1)\n",
    "        print(\"Recommended song:\")\n",
    "        print(\"Title: \", random_song['song_name'].values[0])\n",
    "        print(\"Artist: \", random_song['name'].values[0])\n",
    "        \n",
    "    else: \n",
    "         print(\"I am sorry but I can not recommend a song to you at the moment.\")\n",
    "    "
   ]
  },
  {
   "cell_type": "code",
   "execution_count": null,
   "id": "d6271a43",
   "metadata": {},
   "outputs": [],
   "source": []
  }
 ],
 "metadata": {
  "kernelspec": {
   "display_name": "Python 3 (ipykernel)",
   "language": "python",
   "name": "python3"
  },
  "language_info": {
   "codemirror_mode": {
    "name": "ipython",
    "version": 3
   },
   "file_extension": ".py",
   "mimetype": "text/x-python",
   "name": "python",
   "nbconvert_exporter": "python",
   "pygments_lexer": "ipython3",
   "version": "3.11.5"
  }
 },
 "nbformat": 4,
 "nbformat_minor": 5
}
