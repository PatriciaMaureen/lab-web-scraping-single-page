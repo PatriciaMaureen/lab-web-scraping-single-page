{
 "cells": [
  {
   "cell_type": "code",
   "execution_count": 1,
   "id": "f275baeb",
   "metadata": {},
   "outputs": [],
   "source": [
    "from bs4 import BeautifulSoup\n",
    "import requests\n",
    "import pandas as pd"
   ]
  },
  {
   "cell_type": "code",
   "execution_count": 2,
   "id": "f6237082",
   "metadata": {},
   "outputs": [],
   "source": [
    "response = requests.get(\"https://www.popvortex.com/music/charts/top-100-songs.php\")"
   ]
  },
  {
   "cell_type": "code",
   "execution_count": 3,
   "id": "1c4d460e",
   "metadata": {},
   "outputs": [
    {
     "data": {
      "text/plain": [
       "200"
      ]
     },
     "execution_count": 3,
     "metadata": {},
     "output_type": "execute_result"
    }
   ],
   "source": [
    "response.status_code # 200 status code means OK!"
   ]
  },
  {
   "cell_type": "code",
   "execution_count": 4,
   "id": "499b3b45",
   "metadata": {},
   "outputs": [],
   "source": [
    "soup = BeautifulSoup(response.content, \"html.parser\")\n",
    "#soup"
   ]
  },
  {
   "cell_type": "code",
   "execution_count": 5,
   "id": "1f1c78d6",
   "metadata": {},
   "outputs": [],
   "source": [
    "#Get the selector\n",
    "#chart-position-1 > div.chart-content.col-xs-12.col-sm-8 > p\n",
    "#chart-position-2 > div.chart-content.col-xs-12.col-sm-8 > p"
   ]
  },
  {
   "cell_type": "code",
   "execution_count": 6,
   "id": "736861ed",
   "metadata": {},
   "outputs": [],
   "source": [
    "# Find all elements matching the pattern for titles and artists\n",
    "chart_elements = soup.select('[id^=\"chart-position-\"] > div.chart-content.col-xs-12.col-sm-8 > p')\n",
    "#chart_elements"
   ]
  },
  {
   "cell_type": "code",
   "execution_count": 7,
   "id": "28b7ed11",
   "metadata": {},
   "outputs": [],
   "source": [
    "titles = []\n",
    "artists = []\n",
    "\n",
    "# Loop through each BeautifulSoup element in the list\n",
    "for element in soup.select('[id^=\"chart-position-\"] > div.chart-content.col-xs-12.col-sm-8 > p'):\n",
    "    # Find the <cite> tag within the current element\n",
    "    title = element.select(\"cite.title\")[0].get_text()\n",
    "   \n",
    "    # Find the <em> tag within the current element\n",
    "    artist = element.select(\"em.artist\")[0].get_text()\n",
    "    \n",
    "    \n",
    "    # Append the title and artist to their respective lists\n",
    "    titles.append(title)\n",
    "    artists.append(artist)"
   ]
  },
  {
   "cell_type": "code",
   "execution_count": 8,
   "id": "60002ae5",
   "metadata": {},
   "outputs": [
    {
     "data": {
      "text/html": [
       "<div>\n",
       "<style scoped>\n",
       "    .dataframe tbody tr th:only-of-type {\n",
       "        vertical-align: middle;\n",
       "    }\n",
       "\n",
       "    .dataframe tbody tr th {\n",
       "        vertical-align: top;\n",
       "    }\n",
       "\n",
       "    .dataframe thead th {\n",
       "        text-align: right;\n",
       "    }\n",
       "</style>\n",
       "<table border=\"1\" class=\"dataframe\">\n",
       "  <thead>\n",
       "    <tr style=\"text-align: right;\">\n",
       "      <th></th>\n",
       "      <th>title</th>\n",
       "      <th>artist</th>\n",
       "    </tr>\n",
       "  </thead>\n",
       "  <tbody>\n",
       "    <tr>\n",
       "      <th>0</th>\n",
       "      <td>Not Like Us</td>\n",
       "      <td>Kendrick Lamar</td>\n",
       "    </tr>\n",
       "    <tr>\n",
       "      <th>1</th>\n",
       "      <td>A Bar Song (Tipsy)</td>\n",
       "      <td>Shaboozey</td>\n",
       "    </tr>\n",
       "    <tr>\n",
       "      <th>2</th>\n",
       "      <td>Lose Control</td>\n",
       "      <td>Teddy Swims</td>\n",
       "    </tr>\n",
       "    <tr>\n",
       "      <th>3</th>\n",
       "      <td>meet the grahams</td>\n",
       "      <td>Kendrick Lamar</td>\n",
       "    </tr>\n",
       "    <tr>\n",
       "      <th>4</th>\n",
       "      <td>euphoria</td>\n",
       "      <td>Kendrick Lamar</td>\n",
       "    </tr>\n",
       "    <tr>\n",
       "      <th>...</th>\n",
       "      <td>...</td>\n",
       "      <td>...</td>\n",
       "    </tr>\n",
       "    <tr>\n",
       "      <th>94</th>\n",
       "      <td>Good Luck, Babe!</td>\n",
       "      <td>Chappell Roan</td>\n",
       "    </tr>\n",
       "    <tr>\n",
       "      <th>95</th>\n",
       "      <td>Light On</td>\n",
       "      <td>Maggie Rogers</td>\n",
       "    </tr>\n",
       "    <tr>\n",
       "      <th>96</th>\n",
       "      <td>Down Bad</td>\n",
       "      <td>Taylor Swift</td>\n",
       "    </tr>\n",
       "    <tr>\n",
       "      <th>97</th>\n",
       "      <td>Wanna Be</td>\n",
       "      <td>GloRilla &amp; Megan Thee Stallion</td>\n",
       "    </tr>\n",
       "    <tr>\n",
       "      <th>98</th>\n",
       "      <td>G.R.I.T.S</td>\n",
       "      <td>Jimmie Allen</td>\n",
       "    </tr>\n",
       "  </tbody>\n",
       "</table>\n",
       "<p>99 rows × 2 columns</p>\n",
       "</div>"
      ],
      "text/plain": [
       "                 title                          artist\n",
       "0          Not Like Us                  Kendrick Lamar\n",
       "1   A Bar Song (Tipsy)                       Shaboozey\n",
       "2         Lose Control                     Teddy Swims\n",
       "3     meet the grahams                  Kendrick Lamar\n",
       "4             euphoria                  Kendrick Lamar\n",
       "..                 ...                             ...\n",
       "94    Good Luck, Babe!                   Chappell Roan\n",
       "95            Light On                   Maggie Rogers\n",
       "96            Down Bad                    Taylor Swift\n",
       "97            Wanna Be  GloRilla & Megan Thee Stallion\n",
       "98           G.R.I.T.S                    Jimmie Allen\n",
       "\n",
       "[99 rows x 2 columns]"
      ]
     },
     "execution_count": 8,
     "metadata": {},
     "output_type": "execute_result"
    }
   ],
   "source": [
    "top_100 = pd.DataFrame({\"title\":titles,\n",
    "                           \"artist\":artists\n",
    "                          })\n",
    "top_100"
   ]
  },
  {
   "cell_type": "code",
   "execution_count": 9,
   "id": "6d538158",
   "metadata": {},
   "outputs": [],
   "source": [
    "top_100.to_csv('top_100.csv', index=False)"
   ]
  },
  {
   "cell_type": "code",
   "execution_count": 10,
   "id": "62af6709",
   "metadata": {},
   "outputs": [
    {
     "name": "stdout",
     "output_type": "stream",
     "text": [
      "Enter a song title:\n",
      "not like us\n",
      "Recommended song:\n",
      "Title:  Miles On It\n",
      "Artist:  Marshmello & Kane Brown\n"
     ]
    }
   ],
   "source": [
    "# Get the input\n",
    "print('Enter a song title:')\n",
    "x = input()\n",
    "\n",
    "# Make a reccomendation\n",
    "\n",
    "# Make sure we do not recommend the input song.\n",
    "filtered_top_100 = top_100[top_100['title'].str.lower() != x.lower()]\n",
    "\n",
    "# Get a random row from the top_100 dataset with the sample() method.\n",
    "if x.lower() in top_100['title'].str.lower().values:\n",
    "    random_song = filtered_top_100.sample(n=1)\n",
    "    print(\"Recommended song:\")\n",
    "    print(\"Title: \", random_song['title'].values[0])\n",
    "    print(\"Artist: \", random_song['artist'].values[0])\n",
    "else: \n",
    "    print(\"I am sorry but I can not recommend a song to you at the moment.\")"
   ]
  },
  {
   "cell_type": "code",
   "execution_count": null,
   "id": "9b1adc97",
   "metadata": {},
   "outputs": [],
   "source": []
  },
  {
   "cell_type": "code",
   "execution_count": null,
   "id": "98d3ef2b",
   "metadata": {},
   "outputs": [],
   "source": []
  }
 ],
 "metadata": {
  "kernelspec": {
   "display_name": "Python 3 (ipykernel)",
   "language": "python",
   "name": "python3"
  },
  "language_info": {
   "codemirror_mode": {
    "name": "ipython",
    "version": 3
   },
   "file_extension": ".py",
   "mimetype": "text/x-python",
   "name": "python",
   "nbconvert_exporter": "python",
   "pygments_lexer": "ipython3",
   "version": "3.11.5"
  }
 },
 "nbformat": 4,
 "nbformat_minor": 5
}
